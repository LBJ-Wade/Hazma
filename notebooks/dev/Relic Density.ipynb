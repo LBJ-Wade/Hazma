{
 "cells": [
  {
   "cell_type": "markdown",
   "metadata": {},
   "source": [
    "# Relic Density Calculations"
   ]
  },
  {
   "cell_type": "code",
   "execution_count": 1,
   "metadata": {},
   "outputs": [],
   "source": [
    "from hazma.scalar_mediator import ScalarMediator, HiggsPortal\n",
    "from hazma.parameters import electron_mass as me\n",
    "from hazma.parameters import muon_mass as mmu\n",
    "from hazma.parameters import charged_pion_mass as mpi\n",
    "from hazma.parameters import neutral_pion_mass as mpi0\n",
    "from hazma.parameters import vh, alpha_em, b0\n",
    "from hazma.parameters import up_quark_mass as muq\n",
    "from hazma.parameters import down_quark_mass as mdq\n",
    "\n",
    "import numpy as np\n",
    "from scipy.special import kn\n",
    "from scipy.integrate import quad, solve_ivp\n",
    "from scipy.interpolate import UnivariateSpline\n",
    "\n",
    "import matplotlib.pyplot as plt"
   ]
  },
  {
   "cell_type": "code",
   "execution_count": 2,
   "metadata": {},
   "outputs": [],
   "source": [
    "mpl = 1.220910e19\n",
    "sm_dof_data = np.genfromtxt('smdof.csv', skip_header=1, delimiter=',')\n",
    "sm_temp_data, sm_gstar_data, sm_heff_data, sm_geff_data = sm_dof_data.T\n",
    "sm_gstar_interp = UnivariateSpline(sm_temp_data, sm_gstar_data, ext=3)\n",
    "sm_heff_interp = UnivariateSpline(sm_temp_data, sm_heff_data, ext=3)\n",
    "sm_entropy_density = lambda T: 2.0 * np.pi**2 / 45.0 * sm_heff_interp(T) * T**3"
   ]
  },
  {
   "cell_type": "code",
   "execution_count": 60,
   "metadata": {},
   "outputs": [],
   "source": [
    "mss = np.logspace(1.0, 3.0, num=20)\n",
    "sthetas = np.logspace(-6, 0.0, num=20)\n",
    "rds = np.zeros((len(mss), len(sthetas)), dtype=float)"
   ]
  },
  {
   "cell_type": "code",
   "execution_count": 96,
   "metadata": {},
   "outputs": [],
   "source": [
    "hp = HiggsPortal(250.0, 1000.0, 1.0, 1.0)"
   ]
  },
  {
   "cell_type": "code",
   "execution_count": 97,
   "metadata": {},
   "outputs": [
    {
     "data": {
      "text/plain": [
       "32.36516207383877"
      ]
     },
     "execution_count": 97,
     "metadata": {},
     "output_type": "execute_result"
    }
   ],
   "source": [
    "hp.relic_density()"
   ]
  },
  {
   "cell_type": "code",
   "execution_count": 98,
   "metadata": {},
   "outputs": [],
   "source": [
    "for i, ms in enumerate(mss):\n",
    "    for j, stheta in enumerate(sthetas):\n",
    "        hp = HiggsPortal(50.0, ms, 1.0, stheta)\n",
    "        hp.ms = ms\n",
    "        hp.stheta = stheta\n",
    "        rds[i,j] = hp.relic_density()"
   ]
  },
  {
   "cell_type": "code",
   "execution_count": 105,
   "metadata": {},
   "outputs": [
    {
     "data": {
      "image/png": "[encoded data removed]",
      "text/plain": [
       "<Figure size 432x288 with 1 Axes>"
      ]
     },
     "metadata": {},
     "output_type": "display_data"
    }
   ],
   "source": [
    "plt.contour(mss, sthetas, rds.T, [0.12])\n",
    "plt.vlines(50.0, 1e-6, 1e0)\n",
    "plt.yscale('log')\n",
    "plt.xscale('log')"
   ]
  },
  {
   "cell_type": "code",
   "execution_count": 56,
   "metadata": {},
   "outputs": [],
   "source": [
    "logxs, w = hp.solve_boltzmann()"
   ]
  },
  {
   "cell_type": "code",
   "execution_count": 57,
   "metadata": {},
   "outputs": [
    {
     "data": {
      "text/plain": [
       "[<matplotlib.lines.Line2D at 0x12f90feb8>]"
      ]
     },
     "execution_count": 57,
     "metadata": {},
     "output_type": "execute_result"
    },
    {
     "data": {
      "image/png": "[encoded data removed]",
      "text/plain": [
       "<Figure size 432x288 with 1 Axes>"
      ]
     },
     "metadata": {},
     "output_type": "display_data"
    }
   ],
   "source": [
    "plt.plot(logxs, w[0])"
   ]
  },
  {
   "cell_type": "code",
   "execution_count": 2,
   "metadata": {},
   "outputs": [],
   "source": [
    "sm = ScalarMediator(250.0, 100.0,1.0, 1.0,0.0, 0.0, 100e6)"
   ]
  },
  {
   "cell_type": "code",
   "execution_count": 7,
   "metadata": {},
   "outputs": [
    {
     "name": "stderr",
     "output_type": "stream",
     "text": [
      "/Users/loganmorrison/.pyenv/versions/3.6.2/lib/python3.6/site-packages/scipy/integrate/quadpack.py:450: RuntimeWarning: divide by zero encountered in double_scalars\n",
      "  return _quadpack._qagie(func,bound,infbounds,args,full_output,epsabs,epsrel,limit)\n",
      "/Users/loganmorrison/.pyenv/versions/3.6.2/lib/python3.6/site-packages/scipy/integrate/quadpack.py:450: RuntimeWarning: invalid value encountered in double_scalars\n",
      "  return _quadpack._qagie(func,bound,infbounds,args,full_output,epsabs,epsrel,limit)\n"
     ]
    },
    {
     "data": {
      "text/plain": [
       "array([-0.])"
      ]
     },
     "execution_count": 7,
     "metadata": {},
     "output_type": "execute_result"
    }
   ],
   "source": [
    "boltzmann(np.log(400), np.array([-4.0]), sm)"
   ]
  },
  {
   "cell_type": "code",
   "execution_count": 15,
   "metadata": {},
   "outputs": [
    {
     "name": "stderr",
     "output_type": "stream",
     "text": [
      "/Users/loganmorrison/.pyenv/versions/3.6.2/lib/python3.6/site-packages/scipy/integrate/quadpack.py:450: RuntimeWarning: divide by zero encountered in double_scalars\n",
      "  return _quadpack._qagie(func,bound,infbounds,args,full_output,epsabs,epsrel,limit)\n",
      "/Users/loganmorrison/.pyenv/versions/3.6.2/lib/python3.6/site-packages/scipy/integrate/quadpack.py:450: RuntimeWarning: invalid value encountered in double_scalars\n",
      "  return _quadpack._qagie(func,bound,infbounds,args,full_output,epsabs,epsrel,limit)\n"
     ]
    }
   ],
   "source": [
    "logxs, ys = sm.solve_boltzmann()"
   ]
  },
  {
   "cell_type": "code",
   "execution_count": 16,
   "metadata": {},
   "outputs": [
    {
     "data": {
      "text/plain": [
       "0.0"
      ]
     },
     "execution_count": 16,
     "metadata": {},
     "output_type": "execute_result"
    }
   ],
   "source": [
    "kn(2, 500)**2"
   ]
  },
  {
   "cell_type": "code",
   "execution_count": 17,
   "metadata": {},
   "outputs": [
    {
     "data": {
      "text/plain": [
       "[<matplotlib.lines.Line2D at 0x1257146a0>]"
      ]
     },
     "execution_count": 17,
     "metadata": {},
     "output_type": "execute_result"
    },
    {
     "data": {
      "image/png": "[encoded data removed]",
      "text/plain": [
       "<Figure size 432x288 with 1 Axes>"
      ]
     },
     "metadata": {},
     "output_type": "display_data"
    }
   ],
   "source": [
    "plt.plot(logxs, ys[0])"
   ]
  },
  {
   "cell_type": "code",
   "execution_count": 5,
   "metadata": {},
   "outputs": [
    {
     "data": {
      "text/plain": [
       "array([[0.]])"
      ]
     },
     "execution_count": 5,
     "metadata": {},
     "output_type": "execute_result"
    }
   ],
   "source": [
    "np.zeros((1,1))"
   ]
  },
  {
   "cell_type": "markdown",
   "metadata": {},
   "source": [
    "## Scalar Mediator"
   ]
  },
  {
   "cell_type": "markdown",
   "metadata": {},
   "source": [
    "### Thermal Cross Sections"
   ]
  },
  {
   "cell_type": "code",
   "execution_count": 113,
   "metadata": {
    "code_folding": [
     0,
     24,
     40,
     56,
     66,
     77,
     83
    ]
   },
   "outputs": [],
   "source": [
    "def thermal_cs_xx_to_ss(sm, eps):\n",
    "\n",
    "    # s = 4mx^2(1+eps). Check that Ecm = sqrt(s) > 2 ms\n",
    "    if 4.0 * sm.mx**2 * (1 + eps) < 4 * sm.ms**2:\n",
    "        return 0.0\n",
    "\n",
    "    return (((sm.gsxx**4 *\n",
    "              ((-2*np.sqrt((eps*(1 + eps - sm.ms**2/sm.mx**2)) /\n",
    "                           (1 + eps)**2) *\n",
    "                (3*sm.ms**4 - 16*sm.ms**2*sm.mx**2 +\n",
    "                 8*(3 + eps)*sm.mx**4)) /\n",
    "               (sm.ms**4 - 4*sm.ms**2*sm.mx**2 + 4*(1 + eps)*sm.mx**4) -\n",
    "               ((3*sm.ms**4 - 8*(2 + eps)*sm.ms**2*sm.mx**2 + 8*(3 + eps*(6 + eps)) *\n",
    "                 sm.mx**4) *\n",
    "                np.log((sm.ms**2 + 2*(1 + eps) *\n",
    "                        sm.mx*(-sm.mx +\n",
    "                                 np.sqrt((eps*(-sm.ms**2 + (1 + eps)*sm.mx**2)) /\n",
    "                                         (1 + eps)**2)))**2 /\n",
    "                       (sm.ms**2 - 2*(1 + eps) *\n",
    "                        sm.mx*(sm.mx + np.sqrt((eps*(-sm.ms**2 + (1 + eps)*sm.mx**2)) /\n",
    "                                                   (1 + eps)**2)))**2)) /\n",
    "               (-4*(1 + eps)*sm.ms**2*sm.mx**2 + 8*(1 + eps)**2*sm.mx**4))) /\n",
    "             (64.*np.sqrt(eps)*np.sqrt(1 + eps)*sm.mx**2*np.pi)))\n",
    "\n",
    "def thermal_cs_xx_to_pipi(sm, eps):\n",
    "    # s = 4mx^2(1+eps). Check that Ecm = sqrt(s) > 2 ms\n",
    "    if 4.0 * sm.mx**2 * (1 + eps) < 4 * mpi**2:\n",
    "        return 0.0\n",
    "    \n",
    "    return ((np.sqrt(eps/(1 + eps))*\n",
    "             sm.gsxx**2*np.sqrt((eps*(-mpi**2 + (1 + eps)*sm.mx**2))/\n",
    "                                  ((1 + eps)**2*sm.mx**2))*\n",
    "             (324*sm.gsGG*sm.lam**3*(mpi**2 - 2*(1 + eps)*sm.mx**2)*vh**2 + \n",
    "              b0*(mdq + muq)*(9*sm.lam + 4*sm.gsGG*sm.vs)*\n",
    "              (-3*sm.lam*vh + 3*sm.gsff*sm.lam*sm.vs + 2*sm.gsGG*vh*sm.vs)*\n",
    "              (2*sm.gsGG*vh*(9*sm.lam - 4*sm.gsGG*sm.vs) + \n",
    "               9*sm.gsff*sm.lam*(3*sm.lam + 4*sm.gsGG*sm.vs)))**2)/\n",
    "            (52488.*sm.lam**6*np.pi*vh**4*(9*sm.lam + 4*sm.gsGG*sm.vs)**2*\n",
    "             ((sm.ms**2 - 4*(1 + eps)*sm.mx**2)**2 + sm.ms**2*sm.width_s**2)))\n",
    "\n",
    "def thermal_cs_xx_to_pi0pi0(sm, eps):\n",
    "    # s = 4mx^2(1+eps). Check that Ecm = sqrt(s) > 2 mpi0\n",
    "    if 4.0 * sm.mx**2 * (1 + eps) < 4 * mpi0**2:\n",
    "        return 0.0\n",
    "\n",
    "    return ((np.sqrt(eps/(1 + eps))*sm.gsxx**2 *\n",
    "             np.sqrt((eps*(-mpi0**2 + (1 + eps)*sm.mx**2)) /\n",
    "                     ((1 + eps)**2*sm.mx**2)) *\n",
    "             (324*sm.gsGG*sm.lam**3*(mpi0**2 - 2*(1 + eps)*sm.mx**2)*vh**2 +\n",
    "              b0*(mdq + muq)*(9*sm.lam + 4*sm.gsGG*sm.vs) *\n",
    "              (-3*sm.lam*vh + 3*sm.gsff*sm.lam*sm.vs + 2*sm.gsGG*vh*sm.vs) *\n",
    "              (2*sm.gsGG*vh*(9*sm.lam - 4*sm.gsGG*sm.vs) + 9*sm.gsff*sm.lam *\n",
    "               (3*sm.lam + 4*sm.gsGG*sm.vs)))**2) /\n",
    "            (104976.*sm.lam**6*np.pi*vh**4*(9*sm.lam + 4*sm.gsGG*sm.vs)**2 *\n",
    "             ((sm.ms**2 - 4*(1 + eps)*sm.mx**2)**2 + sm.ms**2*sm.width_s**2)))\n",
    "\n",
    "def thermal_cs_xx_to_mumu(sm, eps):\n",
    "    # s = 4mx^2(1+eps). Check that Ecm = sqrt(s) > 2 mmu\n",
    "    if 4.0 * sm.mx**2 * (1 + eps) < 4 * mmu**2:\n",
    "        return 0.0\n",
    "\n",
    "    gsll = sm.gsff * mmu / vh\n",
    "    ml = mmu\n",
    "    return ((eps*gsll**2*sm.gsxx**2*(-(ml**2/(1 + eps)) + sm.mx**2)**1.5) /\n",
    "            (sm.mx*np.pi*((sm.ms**2 - 4*(1 + eps)*sm.mx**2)**2 + sm.ms**2*sm.width_s**2)))\n",
    "\n",
    "def thermal_cs_xx_to_ee(sm, eps):\n",
    "    # s = 4mx^2(1+eps). Check that Ecm = sqrt(s) > 2 me\n",
    "    if 4.0 * sm.mx**2 * (1 + eps) < 4 * me**2:\n",
    "        return 0.0\n",
    "\n",
    "    gsll = sm.gsff * me / vh\n",
    "    ml = me\n",
    "\n",
    "    return ((eps*gsll**2*sm.gsxx**2*(-(ml**2/(1 + eps)) + sm.mx**2)**1.5) /\n",
    "            (sm.mx*np.pi*((sm.ms**2 - 4*(1 + eps)*sm.mx**2)**2 + sm.ms**2*sm.width_s**2)))\n",
    "\n",
    "def thermal_cs_xx_to_gg(sm, eps):\n",
    "\n",
    "\n",
    "    return ((alpha_em**2*eps*(1 + eps)*sm.gsff**2*sm.gsxx**2*sm.mx**4) /\n",
    "            (2.*sm.lam**2*np.pi**3*((sm.ms**2 - 4*(1 + eps)*sm.mx**2)**2 + sm.ms**2*sm.width_s**2)))\n",
    "\n",
    "def integrand(sm, eps, x):\n",
    "    pf = (2.0 * x / kn(2, x)**2 * np.sqrt(eps) * \n",
    "          (1 + 2 * eps) * kn(1, 2. * x * np.sqrt(1+eps)))\n",
    "    tcs = (thermal_cs_xx_to_ss(sm, eps) + \n",
    "           thermal_cs_xx_to_pipi(sm, eps) +\n",
    "           thermal_cs_xx_to_pi0pi0(sm, eps) + \n",
    "           thermal_cs_xx_to_mumu(sm, eps) + \n",
    "           thermal_cs_xx_to_ee(sm, eps) + \n",
    "           thermal_cs_xx_to_gg(sm, eps))\n",
    "    \n",
    "    return pf * tcs\n",
    "\n",
    "def thermal_cs_tot(sm, x):\n",
    "    def _integrand(eps):\n",
    "        return integrand(sm, eps, x)\n",
    "    return quad(_integrand, 0, np.inf, epsrel=1e-4, epsabs=1e-5)[0]"
   ]
  },
  {
   "cell_type": "code",
   "execution_count": 80,
   "metadata": {},
   "outputs": [],
   "source": [
    "hp = HiggsPortal(250.0, 500.0, 1.0, 1e-6)"
   ]
  },
  {
   "cell_type": "code",
   "execution_count": 81,
   "metadata": {},
   "outputs": [
    {
     "data": {
      "text/plain": [
       "1.1378834312532694e-25"
      ]
     },
     "execution_count": 81,
     "metadata": {},
     "output_type": "execute_result"
    }
   ],
   "source": [
    "integrand(hp, 1.0, 1.0)"
   ]
  },
  {
   "cell_type": "code",
   "execution_count": 82,
   "metadata": {},
   "outputs": [
    {
     "name": "stderr",
     "output_type": "stream",
     "text": [
      "/Users/loganmorrison/.pyenv/versions/3.6.2/lib/python3.6/site-packages/ipykernel_launcher.py:87: RuntimeWarning: overflow encountered in double_scalars\n",
      "/Users/loganmorrison/.pyenv/versions/3.6.2/lib/python3.6/site-packages/ipykernel_launcher.py:87: RuntimeWarning: invalid value encountered in double_scalars\n",
      "/Users/loganmorrison/.pyenv/versions/3.6.2/lib/python3.6/site-packages/ipykernel_launcher.py:100: IntegrationWarning: The occurrence of roundoff error is detected, which prevents \n",
      "  the requested tolerance from being achieved.  The error may be \n",
      "  underestimated.\n",
      "/Users/loganmorrison/.pyenv/versions/3.6.2/lib/python3.6/site-packages/ipykernel_launcher.py:87: RuntimeWarning: divide by zero encountered in double_scalars\n"
     ]
    }
   ],
   "source": [
    "xs = np.logspace(0.0, 3.0, num=100)\n",
    "tcs = np.array([thermal_cs_tot(hp, x) for x in xs])"
   ]
  },
  {
   "cell_type": "code",
   "execution_count": 83,
   "metadata": {},
   "outputs": [
    {
     "data": {
      "image/png": "[encoded data removed]",
      "text/plain": [
       "<Figure size 432x288 with 1 Axes>"
      ]
     },
     "metadata": {},
     "output_type": "display_data"
    }
   ],
   "source": [
    "plt.plot(xs, tcs)\n",
    "plt.yscale('log')\n",
    "plt.xscale('log')"
   ]
  },
  {
   "cell_type": "code",
   "execution_count": 114,
   "metadata": {},
   "outputs": [],
   "source": [
    "def boltzmann(logx, W, sm):\n",
    "    x = np.exp(logx)\n",
    "    T = sm.mx / x\n",
    "    pf = (-np.sqrt(np.pi / 45.0) * mpl * T * sm_gstar_interp(T) * \n",
    "          thermal_cs_tot(sm, x))\n",
    "    weq = np.log(45.0 / (4.0 * np.pi**4) * 2.0 / sm_heff_interp(T) * x**2 * kn(2, x))\n",
    "    dW = np.zeros_like(W)\n",
    "    dW[0] = pf * (np.exp(W[0]) - np.exp(2.0 * weq - W[0]))\n",
    "    return dW\n",
    "\n",
    "def jacobian(logx, W, sm):\n",
    "    x = np.exp(logx)\n",
    "    T = sm.mx / x\n",
    "    pf = (-np.sqrt(np.pi / 45.0) * mpl * T * sm_gstar_interp(T) * \n",
    "          thermal_cs_tot(sm, x))\n",
    "    weq = np.log(45.0 / (4.0 * np.pi**4) * 2.0 / sm_heff_interp(T) * x**2 * kn(2, x))\n",
    "    \n",
    "    J = np.zeros((1,1))\n",
    "    J[0, 0] = pf * (np.exp(W[0]) - np.exp(2.0 * weq - W[0]))\n",
    "    return J"
   ]
  },
  {
   "cell_type": "code",
   "execution_count": 115,
   "metadata": {},
   "outputs": [],
   "source": [
    "hp = HiggsPortal(250.0, 100.0, 1.0, 1e-6)"
   ]
  },
  {
   "cell_type": "code",
   "execution_count": 128,
   "metadata": {},
   "outputs": [
    {
     "name": "stdout",
     "output_type": "stream",
     "text": [
      "1.99526e-05, 3.38387\n",
      "2.23872e-05, 3.38387\n",
      "2.51189e-05, 3.38388\n",
      "2.81838e-05, 3.38389\n",
      "3.16228e-05, 3.38397\n",
      "3.54814e-05, 3.38427\n",
      "3.98107e-05, 3.38549\n",
      "4.46684e-05, 3.3881\n",
      "5.01187e-05, 3.39738\n",
      "5.62341e-05, 3.41647\n",
      "6.30958e-05, 3.45361\n",
      "7.07946e-05, 3.51934\n",
      "7.94328e-05, 3.62573\n",
      "8.91251e-05, 3.78527\n",
      "0.0001, 4.0102\n",
      "0.000112202, 4.3118\n",
      "0.000125892, 4.69996\n",
      "0.000141254, 5.17649\n",
      "0.000158489, 5.72974\n",
      "0.000177828, 6.33782\n",
      "0.000199526, 6.96665\n",
      "0.000223872, 7.56535\n",
      "0.000251189, 8.11056\n",
      "0.000281838, 8.59272\n",
      "0.000316228, 9.00495\n",
      "0.000354813, 9.34736\n",
      "0.000398107, 9.6294\n",
      "0.000446684, 9.86545\n",
      "0.000501187, 10.0587\n",
      "0.000562341, 10.2142\n",
      "0.000630957, 10.3381\n",
      "0.000707946, 10.4387\n",
      "0.000794328, 10.5198\n",
      "0.000891251, 10.5838\n",
      "0.001, 10.6332\n",
      "0.00112202, 10.6713\n",
      "0.00125892, 10.7017\n",
      "0.00141254, 10.7286\n",
      "0.00158489, 10.7517\n",
      "0.00177828, 10.7704\n",
      "0.00199526, 10.7844\n",
      "0.00223872, 10.7937\n",
      "0.00251189, 10.7998\n",
      "0.00281838, 10.8043\n",
      "0.00316228, 10.8083\n",
      "0.00354813, 10.8132\n",
      "0.00398107, 10.8184\n",
      "0.00446684, 10.8231\n",
      "0.00501187, 10.827\n",
      "0.00562341, 10.8296\n",
      "0.00630957, 10.8304\n",
      "0.00707946, 10.8296\n",
      "0.00794328, 10.8287\n",
      "0.00891251, 10.8303\n",
      "0.01, 10.8395\n",
      "0.0112202, 10.8543\n",
      "0.0125892, 10.883\n",
      "0.0141254, 10.9338\n",
      "0.0158489, 11.0194\n",
      "0.0177828, 11.1678\n",
      "0.0199526, 11.4085\n",
      "0.0223872, 11.7266\n",
      "0.0251189, 12.0945\n",
      "0.0281838, 12.5001\n",
      "0.0316228, 12.9312\n",
      "0.0354813, 13.3759\n",
      "0.0398107, 13.8235\n",
      "0.0421697, 14.0456\n",
      "0.0446684, 14.2655\n",
      "0.0473151, 14.4826\n",
      "0.0501187, 14.6968\n",
      "0.0530884, 14.908\n",
      "0.0562341, 15.1166\n",
      "0.0595662, 15.3235\n",
      "0.0630957, 15.5298\n",
      "0.0668344, 15.7377\n",
      "0.0707946, 15.9508\n",
      "0.0749894, 16.1761\n",
      "0.0794328, 16.4233\n",
      "0.0841395, 16.7028\n",
      "0.0891251, 17.02\n",
      "0.0944061, 17.3796\n",
      "0.1, 17.7909\n",
      "0.105925, 18.2706\n",
      "0.112202, 18.8863\n",
      "0.11885, 19.8105\n",
      "0.125892, 21.0143\n",
      "0.133352, 22.6405\n",
      "0.141254, 24.8377\n",
      "0.149624, 27.678\n",
      "0.158489, 31.0595\n",
      "0.167881, 34.6881\n",
      "0.177828, 38.2034\n",
      "0.188365, 41.3583\n",
      "0.199526, 44.0896\n",
      "0.211349, 46.46\n",
      "0.223872, 48.5645\n",
      "0.237138, 50.4771\n",
      "0.251189, 52.2407\n",
      "0.266072, 53.877\n",
      "0.281838, 55.3974\n",
      "0.298538, 56.8108\n",
      "0.316228, 58.1272\n",
      "0.334966, 59.3581\n",
      "0.354814, 60.5156\n",
      "0.375837, 61.6115\n",
      "0.398107, 62.6563\n",
      "0.421696, 63.6585\n",
      "0.446684, 64.6247\n",
      "0.473152, 65.5589\n",
      "0.501187, 66.4632\n",
      "0.530885, 67.3386\n",
      "0.562341, 68.1849\n",
      "0.595662, 69.0022\n",
      "0.630958, 69.7905\n",
      "0.668344, 70.551\n",
      "0.707946, 71.2857\n",
      "0.749894, 71.9976\n",
      "0.794328, 72.69\n",
      "0.841395, 73.3664\n",
      "0.891251, 74.0297\n",
      "0.944062, 74.682\n",
      "1.0, 75.3246\n",
      "1.05925, 75.9577\n",
      "1.12202, 76.5805\n",
      "1.1885, 77.1915\n",
      "1.25893, 77.7887\n",
      "1.33352, 78.3697\n",
      "1.41254, 78.9322\n",
      "1.49624, 79.4738\n",
      "1.58489, 79.9925\n",
      "1.67881, 80.4865\n",
      "1.77828, 80.9545\n",
      "1.88365, 81.3956\n",
      "1.99526, 81.8092\n",
      "2.11349, 82.1954\n",
      "2.23872, 82.5543\n",
      "2.37138, 82.8867\n",
      "2.51189, 83.1933\n",
      "2.81838, 83.7336\n",
      "3.16228, 84.1855\n",
      "3.54814, 84.5603\n",
      "3.98107, 84.8691\n",
      "4.46684, 85.1225\n",
      "5.01187, 85.33\n",
      "5.62341, 85.5002\n",
      "6.30958, 85.6411\n",
      "7.07946, 85.7609\n",
      "7.94329, 85.8698\n",
      "8.91251, 85.9812\n",
      "10.0, 86.1122\n",
      "10.5925, 86.1913\n",
      "11.2202, 86.2833\n",
      "11.885, 86.3907\n",
      "12.5892, 86.5163\n",
      "13.3352, 86.6626\n",
      "14.1254, 86.8318\n",
      "14.9624, 87.0258\n",
      "15.8489, 87.2464\n",
      "16.788, 87.4949\n",
      "17.7828, 87.7727\n",
      "18.8365, 88.0806\n",
      "19.9526, 88.4194\n",
      "21.1349, 88.7899\n",
      "22.3872, 89.1925\n",
      "23.7137, 89.6273\n",
      "25.1189, 90.0944\n",
      "26.6072, 90.5931\n",
      "28.1838, 91.1226\n",
      "29.8539, 91.6813\n",
      "31.6228, 92.2669\n",
      "33.4965, 92.8769\n",
      "35.4813, 93.5077\n",
      "37.5837, 94.1554\n",
      "39.8107, 94.8155\n",
      "42.1696, 95.4832\n",
      "44.6684, 96.1536\n",
      "47.3151, 96.8214\n",
      "50.1187, 97.4818\n",
      "53.0884, 98.13\n",
      "56.2341, 98.7617\n",
      "59.5664, 99.373\n",
      "63.0957, 99.9605\n",
      "66.8344, 100.522\n",
      "70.7946, 101.054\n",
      "74.9894, 101.557\n",
      "79.4328, 102.028\n",
      "84.1395, 102.468\n",
      "89.1251, 102.877\n",
      "94.4061, 103.255\n",
      "100.0, 103.603\n",
      "105.925, 103.922\n",
      "112.202, 104.214\n",
      "118.85, 104.48\n",
      "125.892, 104.721\n",
      "133.352, 104.94\n",
      "141.254, 105.138\n",
      "149.624, 105.316\n",
      "158.489, 105.477\n",
      "167.88, 105.621\n",
      "177.828, 105.751\n",
      "188.366, 105.867\n",
      "199.526, 105.971\n",
      "211.349, 106.064\n",
      "223.873, 106.147\n",
      "237.137, 106.221\n",
      "251.189, 106.287\n",
      "266.072, 106.346\n",
      "281.838, 106.399\n",
      "298.538, 106.446\n",
      "316.228, 106.488\n",
      "334.966, 106.525\n",
      "354.813, 106.558\n",
      "375.839, 106.588\n",
      "398.107, 106.614\n",
      "421.697, 106.638\n",
      "446.685, 106.659\n",
      "473.152, 106.677\n",
      "501.187, 106.694\n",
      "530.884, 106.709\n",
      "562.341, 106.722\n",
      "595.662, 106.734\n",
      "630.957, 106.744\n",
      "668.344, 106.753\n",
      "707.946, 106.762\n",
      "749.894, 106.769\n",
      "794.328, 106.776\n",
      "841.397, 106.781\n",
      "891.253, 106.787\n",
      "944.061, 106.791\n",
      "1000.0, 106.795\n",
      "1059.25, 106.799\n",
      "1122.02, 106.803\n",
      "1188.5, 106.805\n",
      "1258.93, 106.808\n",
      "1333.52, 106.81\n",
      "1412.54, 106.813\n",
      "1496.23, 106.814\n",
      "1584.89, 106.816\n",
      "1678.81, 106.818\n",
      "1778.28, 106.819\n",
      "1883.65, 106.82\n",
      "1995.26, 106.821\n",
      "2113.49, 106.822\n",
      "2238.72, 106.823\n",
      "2371.37, 106.824\n",
      "2511.89, 106.825\n",
      "2660.72, 106.825\n",
      "2818.4, 106.826\n",
      "2985.38, 106.826\n",
      "3162.28, 106.827\n",
      "3349.66, 106.827\n",
      "3548.14, 106.827\n",
      "3758.37, 106.828\n",
      "3981.07, 106.828\n",
      "4216.97, 106.828\n",
      "4466.84, 106.828\n",
      "4731.51, 106.829\n",
      "5011.87, 106.829\n",
      "5308.84, 106.829\n",
      "5623.43, 106.829\n",
      "5956.64, 106.829\n",
      "6309.59, 106.829\n",
      "6683.46, 106.829\n",
      "7079.46, 106.83\n",
      "7498.94, 106.83\n",
      "7943.28, 106.83\n",
      "8413.95, 106.83\n",
      "8912.53, 106.83\n",
      "9440.61, 106.83\n",
      "10000.0, 106.83\n",
      "10592.6, 106.83\n",
      "11220.2, 106.83\n",
      "11885.0, 106.83\n",
      "12589.2, 106.83\n"
     ]
    }
   ],
   "source": [
    "for T, geff in zip(sm_temp_data, sm_geff_data):\n",
    "    print(\"{}, {}\".format(T, geff))"
   ]
  },
  {
   "cell_type": "code",
   "execution_count": 116,
   "metadata": {},
   "outputs": [
    {
     "name": "stderr",
     "output_type": "stream",
     "text": [
      "/Users/loganmorrison/.pyenv/versions/3.6.2/lib/python3.6/site-packages/ipykernel_launcher.py:8: RuntimeWarning: overflow encountered in exp\n",
      "  \n"
     ]
    },
    {
     "ename": "KeyboardInterrupt",
     "evalue": "",
     "output_type": "error",
     "traceback": [
      "\u001b[0;31m---------------------------------------------------------------------------\u001b[0m",
      "\u001b[0;31mKeyboardInterrupt\u001b[0m                         Traceback (most recent call last)",
      "\u001b[0;32m<ipython-input-116-ea010d241468>\u001b[0m in \u001b[0;36m<module>\u001b[0;34m()\u001b[0m\n\u001b[1;32m      9\u001b[0m                 \u001b[0mmethod\u001b[0m\u001b[0;34m=\u001b[0m\u001b[0;34m'Radau'\u001b[0m\u001b[0;34m,\u001b[0m\u001b[0;34m\u001b[0m\u001b[0m\n\u001b[1;32m     10\u001b[0m                 \u001b[0mjac\u001b[0m\u001b[0;34m=\u001b[0m\u001b[0;32mlambda\u001b[0m \u001b[0mt\u001b[0m\u001b[0;34m,\u001b[0m \u001b[0mY\u001b[0m\u001b[0;34m:\u001b[0m \u001b[0mjacobian\u001b[0m\u001b[0;34m(\u001b[0m\u001b[0mt\u001b[0m\u001b[0;34m,\u001b[0m \u001b[0mY\u001b[0m\u001b[0;34m,\u001b[0m \u001b[0mhp\u001b[0m\u001b[0;34m)\u001b[0m\u001b[0;34m,\u001b[0m\u001b[0;34m\u001b[0m\u001b[0m\n\u001b[0;32m---> 11\u001b[0;31m                rtol=1e-2, atol=1e-4)\n\u001b[0m",
      "\u001b[0;32m~/.pyenv/versions/3.6.2/lib/python3.6/site-packages/scipy/integrate/_ivp/ivp.py\u001b[0m in \u001b[0;36msolve_ivp\u001b[0;34m(fun, t_span, y0, method, t_eval, dense_output, events, vectorized, **options)\u001b[0m\n\u001b[1;32m    500\u001b[0m     \u001b[0mstatus\u001b[0m \u001b[0;34m=\u001b[0m \u001b[0;32mNone\u001b[0m\u001b[0;34m\u001b[0m\u001b[0m\n\u001b[1;32m    501\u001b[0m     \u001b[0;32mwhile\u001b[0m \u001b[0mstatus\u001b[0m \u001b[0;32mis\u001b[0m \u001b[0;32mNone\u001b[0m\u001b[0;34m:\u001b[0m\u001b[0;34m\u001b[0m\u001b[0m\n\u001b[0;32m--> 502\u001b[0;31m         \u001b[0mmessage\u001b[0m \u001b[0;34m=\u001b[0m \u001b[0msolver\u001b[0m\u001b[0;34m.\u001b[0m\u001b[0mstep\u001b[0m\u001b[0;34m(\u001b[0m\u001b[0;34m)\u001b[0m\u001b[0;34m\u001b[0m\u001b[0m\n\u001b[0m\u001b[1;32m    503\u001b[0m \u001b[0;34m\u001b[0m\u001b[0m\n\u001b[1;32m    504\u001b[0m         \u001b[0;32mif\u001b[0m \u001b[0msolver\u001b[0m\u001b[0;34m.\u001b[0m\u001b[0mstatus\u001b[0m \u001b[0;34m==\u001b[0m \u001b[0;34m'finished'\u001b[0m\u001b[0;34m:\u001b[0m\u001b[0;34m\u001b[0m\u001b[0m\n",
      "\u001b[0;32m~/.pyenv/versions/3.6.2/lib/python3.6/site-packages/scipy/integrate/_ivp/base.py\u001b[0m in \u001b[0;36mstep\u001b[0;34m(self)\u001b[0m\n\u001b[1;32m    180\u001b[0m         \u001b[0;32melse\u001b[0m\u001b[0;34m:\u001b[0m\u001b[0;34m\u001b[0m\u001b[0m\n\u001b[1;32m    181\u001b[0m             \u001b[0mt\u001b[0m \u001b[0;34m=\u001b[0m \u001b[0mself\u001b[0m\u001b[0;34m.\u001b[0m\u001b[0mt\u001b[0m\u001b[0;34m\u001b[0m\u001b[0m\n\u001b[0;32m--> 182\u001b[0;31m             \u001b[0msuccess\u001b[0m\u001b[0;34m,\u001b[0m \u001b[0mmessage\u001b[0m \u001b[0;34m=\u001b[0m \u001b[0mself\u001b[0m\u001b[0;34m.\u001b[0m\u001b[0m_step_impl\u001b[0m\u001b[0;34m(\u001b[0m\u001b[0;34m)\u001b[0m\u001b[0;34m\u001b[0m\u001b[0m\n\u001b[0m\u001b[1;32m    183\u001b[0m \u001b[0;34m\u001b[0m\u001b[0m\n\u001b[1;32m    184\u001b[0m             \u001b[0;32mif\u001b[0m \u001b[0;32mnot\u001b[0m \u001b[0msuccess\u001b[0m\u001b[0;34m:\u001b[0m\u001b[0;34m\u001b[0m\u001b[0m\n",
      "\u001b[0;32m~/.pyenv/versions/3.6.2/lib/python3.6/site-packages/scipy/integrate/_ivp/radau.py\u001b[0m in \u001b[0;36m_step_impl\u001b[0;34m(self)\u001b[0m\n\u001b[1;32m    510\u001b[0m         \u001b[0mself\u001b[0m\u001b[0;34m.\u001b[0m\u001b[0merror_norm_old\u001b[0m \u001b[0;34m=\u001b[0m \u001b[0merror_norm\u001b[0m\u001b[0;34m\u001b[0m\u001b[0m\n\u001b[1;32m    511\u001b[0m \u001b[0;34m\u001b[0m\u001b[0m\n\u001b[0;32m--> 512\u001b[0;31m         \u001b[0mself\u001b[0m\u001b[0;34m.\u001b[0m\u001b[0mh_abs\u001b[0m \u001b[0;34m=\u001b[0m \u001b[0mh_abs\u001b[0m \u001b[0;34m*\u001b[0m \u001b[0mfactor\u001b[0m\u001b[0;34m\u001b[0m\u001b[0m\n\u001b[0m\u001b[1;32m    513\u001b[0m \u001b[0;34m\u001b[0m\u001b[0m\n\u001b[1;32m    514\u001b[0m         \u001b[0mself\u001b[0m\u001b[0;34m.\u001b[0m\u001b[0my_old\u001b[0m \u001b[0;34m=\u001b[0m \u001b[0my\u001b[0m\u001b[0;34m\u001b[0m\u001b[0m\n",
      "\u001b[0;31mKeyboardInterrupt\u001b[0m: "
     ]
    }
   ],
   "source": [
    "x0 = 1.0\n",
    "T0 = hp.mx\n",
    "w0 = np.array([np.log(45.0 / (4.0 * np.pi**4) * 2.0 /\n",
    "                      sm_heff_interp(T0) * x0**2 * kn(2, x0))])\n",
    "\n",
    "sol = solve_ivp(lambda t, Y: boltzmann(t, Y, hp),\n",
    "                (np.log(x0), np.log(1000.0)),\n",
    "                w0,\n",
    "                method='Radau',\n",
    "                jac=lambda t, Y: jacobian(t, Y, hp),\n",
    "               rtol=1e-2, atol=1e-4)"
   ]
  },
  {
   "cell_type": "markdown",
   "metadata": {},
   "source": [
    "## Vector Mediator"
   ]
  },
  {
   "cell_type": "code",
   "execution_count": null,
   "metadata": {},
   "outputs": [],
   "source": []
  }
 ],
 "metadata": {
  "@webio": {
   "lastCommId": null,
   "lastKernelId": null
  },
  "kernelspec": {
   "display_name": "Python 3",
   "language": "python",
   "name": "python3"
  },
  "language_info": {
   "codemirror_mode": {
    "name": "ipython",
    "version": 3
   },
   "file_extension": ".py",
   "mimetype": "text/x-python",
   "name": "python",
   "nbconvert_exporter": "python",
   "pygments_lexer": "ipython3",
   "version": "3.6.2"
  },
  "latex_envs": {
   "LaTeX_envs_menu_present": true,
   "autoclose": false,
   "autocomplete": true,
   "bibliofile": "biblio.bib",
   "cite_by": "apalike",
   "current_citInitial": 1,
   "eqLabelWithNumbers": true,
   "eqNumInitial": 1,
   "hotkeys": {
    "equation": "Ctrl-E",
    "itemize": "Ctrl-I"
   },
   "labels_anchors": false,
   "latex_user_defs": false,
   "report_style_numbering": false,
   "user_envs_cfg": false
  },
  "toc": {
   "nav_menu": {},
   "number_sections": true,
   "sideBar": true,
   "skip_h1_title": false,
   "title_cell": "Table of Contents",
   "title_sidebar": "Contents",
   "toc_cell": false,
   "toc_position": {},
   "toc_section_display": true,
   "toc_window_display": false
  }
 },
 "nbformat": 4,
 "nbformat_minor": 2
}
