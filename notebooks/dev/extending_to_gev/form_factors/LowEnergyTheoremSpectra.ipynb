{
 "cells": [
  {
   "cell_type": "markdown",
   "id": "driving-contribution",
   "metadata": {},
   "source": [
    "# Computing Radiative Matrix Elements from the Soft-Photon Theorem"
   ]
  },
  {
   "cell_type": "markdown",
   "id": "opponent-microwave",
   "metadata": {},
   "source": [
    "In this notebook, we will compute the $\\gamma$-ray spectrum using the soft-photon theorem. In \"Extension of the Low Soft-Photon Theorem\" by T. Burnett and M. Kroll, the authors showed that:\n",
    "\\begin{align}\n",
    "\\sum_{\\mathrm{spins}}|\\mathcal{M}_{\\gamma}(\\epsilon,k;p)|^2 = \n",
    "    \\sum_{a}Q_{a}\\frac{\\epsilon\\cdot p_a}{k\\cdot p_a}\n",
    "    \\sum_b Q_b\\left[\\frac{\\epsilon\\cdot p_b}{k\\cdot p_b} - \\epsilon\\cdot D_{b}(k)\\right]\\sum_{\\mathrm{spins}}|\\mathcal{M}(p')|^2\n",
    "\\end{align}"
   ]
  },
  {
   "cell_type": "code",
   "execution_count": null,
   "id": "illegal-blade",
   "metadata": {},
   "outputs": [],
   "source": []
  }
 ],
 "metadata": {
  "kernelspec": {
   "display_name": "Python 3",
   "language": "python",
   "name": "python3"
  },
  "language_info": {
   "codemirror_mode": {
    "name": "ipython",
    "version": 3
   },
   "file_extension": ".py",
   "mimetype": "text/x-python",
   "name": "python",
   "nbconvert_exporter": "python",
   "pygments_lexer": "ipython3",
   "version": "3.9.2"
  }
 },
 "nbformat": 4,
 "nbformat_minor": 5
}
