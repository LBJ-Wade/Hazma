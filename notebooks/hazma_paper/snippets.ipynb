{
 "cells": [
  {
   "cell_type": "markdown",
   "metadata": {},
   "source": [
    "**This notebook collects all the code snippets from the paper introducing Hazma.** Commented lines indicate the expected output."
   ]
  },
  {
   "cell_type": "code",
   "execution_count": 1,
   "metadata": {},
   "outputs": [],
   "source": [
    "import numpy as np"
   ]
  },
  {
   "cell_type": "markdown",
   "metadata": {
    "heading_collapsed": true
   },
   "source": [
    "## Section 3: Particle Physics Framework"
   ]
  },
  {
   "cell_type": "code",
   "execution_count": 2,
   "metadata": {
    "hidden": true
   },
   "outputs": [
    {
     "data": {
      "text/plain": [
       "0.1"
      ]
     },
     "metadata": {},
     "output_type": "display_data"
    },
    {
     "data": {
      "text/plain": [
       "0.5"
      ]
     },
     "metadata": {},
     "output_type": "display_data"
    }
   ],
   "source": [
    "from hazma.scalar_mediator import ScalarMediator\n",
    "\n",
    "sm = ScalarMediator(mx=150.0, ms=1e3, gsxx=1.0, gsff=0.1, gsGG=0.1, gsFF=0.1, lam=2e5)\n",
    "display(sm.gsff)\n",
    "# 0.1\n",
    "sm.gsff = 0.5\n",
    "display(sm.gsff)\n",
    "# 0.5"
   ]
  },
  {
   "cell_type": "code",
   "execution_count": 3,
   "metadata": {
    "hidden": true
   },
   "outputs": [],
   "source": [
    "from hazma.scalar_mediator import HiggsPortal, HeavyQuark\n",
    "\n",
    "hp = HiggsPortal(mx=150.0, ms=1e3, gsxx=1.0, stheta=1e-3)\n",
    "hq = HeavyQuark(mx=150.0, ms=1e3, gsxx=1.0, gsQ=1.0, mQ=1e6, QQ=1.0)"
   ]
  },
  {
   "cell_type": "code",
   "execution_count": 4,
   "metadata": {
    "hidden": true
   },
   "outputs": [],
   "source": [
    "from hazma.vector_mediator import VectorMediator\n",
    "\n",
    "vm = VectorMediator(\n",
    "    mx=150.0, mv=1e3, gvxx=1.0, gvuu=0.1, gvdd=0.2, gvss=0.3, gvee=0.4, gvmumu=0.5\n",
    ")"
   ]
  },
  {
   "cell_type": "code",
   "execution_count": 5,
   "metadata": {
    "hidden": true
   },
   "outputs": [
    {
     "data": {
      "text/plain": [
       "-0.020187846690459792"
      ]
     },
     "metadata": {},
     "output_type": "display_data"
    },
    {
     "ename": "AttributeError",
     "evalue": "Cannot set gvuu",
     "output_type": "error",
     "traceback": [
      "\u001b[0;31m---------------------------------------------------------------------------\u001b[0m",
      "\u001b[0;31mAttributeError\u001b[0m                            Traceback (most recent call last)",
      "\u001b[0;32m<ipython-input-5-7855dbe7144a>\u001b[0m in \u001b[0;36m<module>\u001b[0;34m\u001b[0m\n\u001b[1;32m      4\u001b[0m \u001b[0mdisplay\u001b[0m\u001b[0;34m(\u001b[0m\u001b[0mkm\u001b[0m\u001b[0;34m.\u001b[0m\u001b[0mgvuu\u001b[0m\u001b[0;34m)\u001b[0m\u001b[0;34m\u001b[0m\u001b[0;34m\u001b[0m\u001b[0m\n\u001b[1;32m      5\u001b[0m \u001b[0;31m# -0.020187846690459792\u001b[0m\u001b[0;34m\u001b[0m\u001b[0;34m\u001b[0m\u001b[0;34m\u001b[0m\u001b[0m\n\u001b[0;32m----> 6\u001b[0;31m \u001b[0mkm\u001b[0m\u001b[0;34m.\u001b[0m\u001b[0mgvuu\u001b[0m \u001b[0;34m=\u001b[0m \u001b[0;36m0.1\u001b[0m\u001b[0;34m\u001b[0m\u001b[0;34m\u001b[0m\u001b[0m\n\u001b[0m\u001b[1;32m      7\u001b[0m \u001b[0;31m# AttributeError: Cannot set gvuu\u001b[0m\u001b[0;34m\u001b[0m\u001b[0;34m\u001b[0m\u001b[0;34m\u001b[0m\u001b[0m\n",
      "\u001b[0;32m~/Physics/Sub-GeV_DM/Hazma/hazma/vector_mediator/__init__.py\u001b[0m in \u001b[0;36mgvuu\u001b[0;34m(self, gvuu)\u001b[0m\n\u001b[1;32m    231\u001b[0m     \u001b[0;34m@\u001b[0m\u001b[0mVectorMediator\u001b[0m\u001b[0;34m.\u001b[0m\u001b[0mgvuu\u001b[0m\u001b[0;34m.\u001b[0m\u001b[0msetter\u001b[0m\u001b[0;34m\u001b[0m\u001b[0;34m\u001b[0m\u001b[0m\n\u001b[1;32m    232\u001b[0m     \u001b[0;32mdef\u001b[0m \u001b[0mgvuu\u001b[0m\u001b[0;34m(\u001b[0m\u001b[0mself\u001b[0m\u001b[0;34m,\u001b[0m \u001b[0mgvuu\u001b[0m\u001b[0;34m)\u001b[0m\u001b[0;34m:\u001b[0m\u001b[0;34m\u001b[0m\u001b[0;34m\u001b[0m\u001b[0m\n\u001b[0;32m--> 233\u001b[0;31m         \u001b[0;32mraise\u001b[0m \u001b[0mAttributeError\u001b[0m\u001b[0;34m(\u001b[0m\u001b[0;34m\"Cannot set gvuu\"\u001b[0m\u001b[0;34m)\u001b[0m\u001b[0;34m\u001b[0m\u001b[0;34m\u001b[0m\u001b[0m\n\u001b[0m\u001b[1;32m    234\u001b[0m \u001b[0;34m\u001b[0m\u001b[0m\n\u001b[1;32m    235\u001b[0m     \u001b[0;34m@\u001b[0m\u001b[0mVectorMediator\u001b[0m\u001b[0;34m.\u001b[0m\u001b[0mgvdd\u001b[0m\u001b[0;34m.\u001b[0m\u001b[0msetter\u001b[0m\u001b[0;34m\u001b[0m\u001b[0;34m\u001b[0m\u001b[0m\n",
      "\u001b[0;31mAttributeError\u001b[0m: Cannot set gvuu"
     ]
    }
   ],
   "source": [
    "from hazma.vector_mediator import KineticMixing\n",
    "\n",
    "km = KineticMixing(mx=150.0, mv=1e3, gvxx=1.0, eps=0.1)\n",
    "display(km.gvuu)\n",
    "# -0.020187846690459792\n",
    "km.gvuu = 0.1\n",
    "# AttributeError: Cannot set gvuu"
   ]
  },
  {
   "cell_type": "code",
   "execution_count": 6,
   "metadata": {
    "hidden": true
   },
   "outputs": [
    {
     "data": {
      "text/plain": [
       "['mu mu', 'e e', 'g g', 'pi0 pi0', 'pi pi', 's s']"
      ]
     },
     "metadata": {},
     "output_type": "display_data"
    },
    {
     "data": {
      "text/plain": [
       "['mu mu', 'e e', 'pi pi', 'pi0 g', 'pi0 v', 'v v']"
      ]
     },
     "metadata": {},
     "output_type": "display_data"
    }
   ],
   "source": [
    "display(ScalarMediator.list_annihilation_final_states())\n",
    "# ['mu mu', 'e e', 'g g', 'pi0 pi0', 'pi pi', 's s']\n",
    "display(VectorMediator.list_annihilation_final_states())\n",
    "# ['mu mu', 'e e', 'pi pi', 'pi0 g', 'pi0 v', 'v v']"
   ]
  },
  {
   "cell_type": "code",
   "execution_count": 7,
   "metadata": {
    "hidden": true
   },
   "outputs": [
    {
     "data": {
      "text/plain": [
       "{'mu mu': 1.018678054222354e-16,\n",
       " 'e e': 3.892649866478948e-21,\n",
       " 'g g': 2.4381469306302895e-21,\n",
       " 'pi0 pi0': 7.975042237472552e-17,\n",
       " 'pi pi': 1.5169347389281449e-16,\n",
       " 's s': 1.78924656025887e-07,\n",
       " 'total': 1.7892465635920504e-07}"
      ]
     },
     "execution_count": 7,
     "metadata": {},
     "output_type": "execute_result"
    }
   ],
   "source": [
    "from hazma.scalar_mediator import ScalarMediator\n",
    "\n",
    "sm = ScalarMediator(mx=180.0, ms=190.0, gsxx=1.0, gsff=0.1, gsGG=0.1, gsFF=0.1, lam=2e5)\n",
    "e_cm = 400.0\n",
    "sm.annihilation_cross_sections(e_cm)  # MeV^-2\n",
    "# {'mu mu': 1.018678054222354e-16,\n",
    "#  'e e': 3.892649866478948e-21,\n",
    "#  'g g': 2.4381469306302895e-21,\n",
    "#  'pi0 pi0': 7.975042237472552e-17,\n",
    "#  'pi pi': 1.5169347389281449e-16,\n",
    "#  's s': 1.78924656025887e-07,\n",
    "#  'total': 1.7892465635920504e-07}"
   ]
  },
  {
   "cell_type": "code",
   "execution_count": 8,
   "metadata": {
    "hidden": true
   },
   "outputs": [
    {
     "data": {
      "text/plain": [
       "{'g g': 1.472617003459079e-13,\n",
       " 'pi0 pi0': 3.261686997076484e-09,\n",
       " 'pi pi': 1.8664869506864194e-09,\n",
       " 'x x': 1.522436123428156,\n",
       " 'e e': 4.798160511838726e-13,\n",
       " 'mu mu': 5.792897882600423e-09,\n",
       " 'total': 1.522436134349855}"
      ]
     },
     "execution_count": 8,
     "metadata": {},
     "output_type": "execute_result"
    }
   ],
   "source": [
    "from hazma.scalar_mediator import ScalarMediator\n",
    "\n",
    "sm = ScalarMediator(mx=120.0, ms=280.0, gsxx=1.0, gsff=0.1, gsGG=0.1, gsFF=0.1, lam=2e5)\n",
    "sm.partial_widths()  # MeV\n",
    "# {'g g': 1.472617003459079e-13,\n",
    "#  'pi0 pi0': 3.261686997076484e-09,\n",
    "#  'pi pi': 1.8664869506864194e-09,\n",
    "#  'x x': 1.522436123428156,\n",
    "#  'e e': 4.798160511838726e-13,\n",
    "#  'mu mu': 5.792897882600423e-09,\n",
    "#  'total': 1.522436134349855}"
   ]
  },
  {
   "cell_type": "markdown",
   "metadata": {
    "heading_collapsed": true
   },
   "source": [
    "## Section 4: Building Blocks of MeV Gamma-Ray Spectra"
   ]
  },
  {
   "cell_type": "code",
   "execution_count": 9,
   "metadata": {
    "hidden": true
   },
   "outputs": [
    {
     "data": {
      "text/plain": [
       "{'g g': {'energy': 150.0, 'bf': 1.2856532424150869e-08}}"
      ]
     },
     "metadata": {},
     "output_type": "display_data"
    },
    {
     "data": {
      "text/plain": [
       "{'pi0 g': {'energy': 119.63552908740002, 'bf': 1.0}}"
      ]
     },
     "metadata": {},
     "output_type": "display_data"
    }
   ],
   "source": [
    "from hazma.scalar_mediator import HeavyQuark\n",
    "\n",
    "sm = HeavyQuark(mx=140.0, ms=1e3, gsxx=1.0, gsQ=0.1, mQ=1e3, QQ=0.1)\n",
    "display(sm.gamma_ray_lines(e_cm=300.0))\n",
    "# {'g g': {'energy': 150.0, 'bf': 1.2856532424150869e-08}}\n",
    "from hazma.vector_mediator import QuarksOnly\n",
    "\n",
    "vm = QuarksOnly(mx=140.0, mv=1e3, gvxx=1.0, gvuu=0.1, gvdd=0.1, gvss=0.0)\n",
    "display(vm.gamma_ray_lines(e_cm=300.0))\n",
    "# {'pi0 g': {'energy': 119.63552908740002, 'bf': 1.0}}"
   ]
  },
  {
   "cell_type": "code",
   "execution_count": 10,
   "metadata": {
    "hidden": true
   },
   "outputs": [
    {
     "data": {
      "text/plain": [
       "array([0.0165965, 0.0165965, 0.       ])"
      ]
     },
     "execution_count": 10,
     "metadata": {},
     "output_type": "execute_result"
    }
   ],
   "source": [
    "from hazma.decay import neutral_pion as dnde_pi0\n",
    "\n",
    "e_gams = np.array([100.0, 125.0, 150])  # photon energies\n",
    "e_pi0 = 180.0  # pion energy\n",
    "dnde_pi0(e_gams, e_pi0)\n",
    "# array([0.0165965, 0.0165965, 0.       ])"
   ]
  },
  {
   "cell_type": "code",
   "execution_count": 11,
   "metadata": {
    "hidden": true
   },
   "outputs": [
    {
     "data": {
      "text/plain": [
       "array([1.76076858e-02, 1.34063877e-03, 4.64775301e-08])"
      ]
     },
     "execution_count": 11,
     "metadata": {},
     "output_type": "execute_result"
    }
   ],
   "source": [
    "from hazma.decay import muon as dnde_mu\n",
    "\n",
    "e_gams = np.array([1.0, 10.0, 100.0])  # photon energies\n",
    "e_mu = 130.0  # muon energy\n",
    "dnde_mu(e_gams, e_mu)\n",
    "# array([1.76076858e-02, 1.34063877e-03, 4.64775301e-08])"
   ]
  },
  {
   "cell_type": "code",
   "execution_count": 12,
   "metadata": {
    "hidden": true
   },
   "outputs": [
    {
     "data": {
      "text/plain": [
       "array([1.76949944e-02, 1.32675207e-03, 1.16607174e-09])"
      ]
     },
     "execution_count": 12,
     "metadata": {},
     "output_type": "execute_result"
    }
   ],
   "source": [
    "from hazma.decay import charged_pion as dnde_pi\n",
    "\n",
    "e_gams = np.array([1.0, 10.0, 100.0])  # photon energies\n",
    "e_pi = 150.0  # pion energy\n",
    "dnde_pi(e_gams, e_pi)\n",
    "# array([1.76949944e-02, 1.32675207e-03, 1.16607174e-09])"
   ]
  },
  {
   "cell_type": "code",
   "execution_count": 13,
   "metadata": {
    "hidden": true
   },
   "outputs": [
    {
     "data": {
      "text/plain": [
       "array([0.02484114, 0.00186874, 0.01827828])"
      ]
     },
     "execution_count": 13,
     "metadata": {},
     "output_type": "execute_result"
    }
   ],
   "source": [
    "from hazma.scalar_mediator import HiggsPortal\n",
    "\n",
    "e_cm = 305.0  # DM center of mass energy\n",
    "e_gams = np.array([1.0, 10.0, 100.0])  # photon energies\n",
    "hp = HiggsPortal(mx=150.0, ms=1e3, gsxx=0.7, stheta=0.1)\n",
    "hp.total_spectrum(e_gams, e_cm)\n",
    "# array([0.02484114, 0.00186874, 0.01827828])"
   ]
  },
  {
   "cell_type": "code",
   "execution_count": 14,
   "metadata": {
    "hidden": true
   },
   "outputs": [
    {
     "data": {
      "text/plain": [
       "{'mu mu': array([4.87977497e-03, 3.83154301e-04, 1.22977086e-06]),\n",
       " 'e e': array([4.19129970e-07, 3.93151015e-08, 2.22413275e-09]),\n",
       " 'pi0 pi0': array([0.        , 0.        , 0.01827702]),\n",
       " 'pi pi': array([1.99609455e-02, 1.48554303e-03, 2.28115016e-08]),\n",
       " 's s': array([0., 0., 0.]),\n",
       " 'total': array([0.02484114, 0.00186874, 0.01827828])}"
      ]
     },
     "execution_count": 14,
     "metadata": {},
     "output_type": "execute_result"
    }
   ],
   "source": [
    "hp.spectra(e_gams, e_cm)\n",
    "# {'mu mu': array([4.87977497e-03, 3.83154301e-04, 1.22977086e-06]),\n",
    "#  'e e': array([4.19129970e-07, 3.93151015e-08, 2.22413275e-09]),\n",
    "#  'pi0 pi0': array([0.        , 0.        , 0.01827702]),\n",
    "#  'pi pi': array([1.99609455e-02, 1.48554303e-03, 2.28115016e-08]),\n",
    "#  's s': array([0., 0., 0.]),\n",
    "#  'total': array([0.02484114, 0.00186874, 0.01827828])}"
   ]
  },
  {
   "cell_type": "code",
   "execution_count": 15,
   "metadata": {
    "hidden": true
   },
   "outputs": [
    {
     "data": {
      "text/plain": [
       "array([0.05435176, 0.00509829, 0.00028842])"
      ]
     },
     "metadata": {},
     "output_type": "display_data"
    },
    {
     "data": {
      "text/plain": [
       "array([0., 0., 0.])"
      ]
     },
     "metadata": {},
     "output_type": "display_data"
    },
    {
     "data": {
      "text/plain": [
       "array([1.01492577e-03, 5.00245201e-05, 0.00000000e+00])"
      ]
     },
     "metadata": {},
     "output_type": "display_data"
    },
    {
     "data": {
      "text/plain": [
       "array([3.53972084e-02, 2.65985674e-03, 4.16120296e-08])"
      ]
     },
     "metadata": {},
     "output_type": "display_data"
    },
    {
     "data": {
      "text/plain": [
       "array([3.64121342e-02, 2.70988126e-03, 4.16120296e-08])"
      ]
     },
     "metadata": {},
     "output_type": "display_data"
    }
   ],
   "source": [
    "display(hp.dnde_ee(e_gams, e_cm, spectrum_type=\"fsr\"))\n",
    "# array([0.05435176, 0.00509829, 0.00028842])\n",
    "display(hp.dnde_ee(e_gams, e_cm, spectrum_type=\"decay\"))\n",
    "# array([0., 0., 0.])  # electrons don't decay\n",
    "display(hp.dnde_pipi(e_gams, e_cm, spectrum_type=\"fsr\"))\n",
    "# array([1.01492577e-03, 5.00245201e-05, 0.00000000e+00])\n",
    "display(hp.dnde_pipi(e_gams, e_cm, spectrum_type=\"decay\"))\n",
    "# array([3.53972084e-02, 2.65985674e-03, 4.16120296e-08])\n",
    "display(hp.dnde_pipi(e_gams, e_cm))\n",
    "# array([3.64121342e-02, 2.70988126e-03, 4.16120296e-08])"
   ]
  },
  {
   "cell_type": "markdown",
   "metadata": {
    "heading_collapsed": true
   },
   "source": [
    "## Section 5: Gamma Ray Spectra from DM Annihilation"
   ]
  },
  {
   "cell_type": "code",
   "execution_count": 16,
   "metadata": {
    "hidden": true
   },
   "outputs": [
    {
     "name": "stderr",
     "output_type": "stream",
     "text": [
      "/Users/acoogan/Physics/Sub-GeV_DM/Hazma/hazma/decay.py:141: IntegrationWarning: The integral is probably divergent, or slowly convergent.\n",
      "  return decay_charged_pion.Spectrum(photon_energies, pion_energy, mode)\n"
     ]
    }
   ],
   "source": [
    "from hazma.scalar_mediator import HiggsPortal\n",
    "\n",
    "e_cm = 305.0  # DM center of mass energy\n",
    "e_min, e_max = 1.0, 100.0  # define energy range\n",
    "energy_res = lambda e: 0.05  # 5% energy resolution function\n",
    "hp = HiggsPortal(mx=150.0, ms=1e3, gsxx=0.7, stheta=0.1)\n",
    "dnde_conv = hp.total_conv_spectrum_fn(e_min, e_max, e_cm, energy_res, n_pts=1000)"
   ]
  },
  {
   "cell_type": "code",
   "execution_count": 17,
   "metadata": {
    "hidden": true
   },
   "outputs": [
    {
     "data": {
      "text/plain": [
       "array(0.00046904)"
      ]
     },
     "execution_count": 17,
     "metadata": {},
     "output_type": "execute_result"
    }
   ],
   "source": [
    "dnde_conv(25.0)\n",
    "# array(0.00046904)"
   ]
  },
  {
   "cell_type": "code",
   "execution_count": 18,
   "metadata": {
    "hidden": true
   },
   "outputs": [
    {
     "data": {
      "text/plain": [
       "0.815998464406668"
      ]
     },
     "execution_count": 18,
     "metadata": {},
     "output_type": "execute_result"
    }
   ],
   "source": [
    "dnde_conv.integral(25.0, 85.0)\n",
    "# 0.815998464406668"
   ]
  },
  {
   "cell_type": "markdown",
   "metadata": {
    "heading_collapsed": true
   },
   "source": [
    "## Section 6: Electron and Positron Spectra from DM annihilation"
   ]
  },
  {
   "cell_type": "code",
   "execution_count": 19,
   "metadata": {
    "hidden": true
   },
   "outputs": [
    {
     "data": {
      "text/plain": [
       "array([4.86031362e-05, 4.56232320e-03, 4.45753994e-03])"
      ]
     },
     "execution_count": 19,
     "metadata": {},
     "output_type": "execute_result"
    }
   ],
   "source": [
    "from hazma.positron_spectra import muon as dnde_p_mu\n",
    "\n",
    "e_mu = 150.0  # muon energy\n",
    "e_p = np.array([1.0, 10.0, 100.0])  # positron energies\n",
    "dnde_p_mu(e_p, e_mu)\n",
    "# array([4.86031362e-05, 4.56232320e-03, 4.45753994e-03])"
   ]
  },
  {
   "cell_type": "code",
   "execution_count": 20,
   "metadata": {
    "hidden": true
   },
   "outputs": [
    {
     "data": {
      "text/plain": [
       "array([3.84163631e-05, 3.85242442e-03, 2.55578895e-05])"
      ]
     },
     "execution_count": 20,
     "metadata": {},
     "output_type": "execute_result"
    }
   ],
   "source": [
    "from hazma.positron_spectra import charged_pion as dnde_p_pi\n",
    "\n",
    "e_pi = 150.0  # charged pion energy\n",
    "e_p = np.array([1.0, 10.0, 100.0])  # positron energies\n",
    "dnde_p_pi(e_p, e_pi)\n",
    "# array([3.84163631e-05, 3.85242442e-03, 2.55578895e-05])"
   ]
  },
  {
   "cell_type": "code",
   "execution_count": 21,
   "metadata": {
    "hidden": true
   },
   "outputs": [
    {
     "data": {
      "text/plain": [
       "array([2.75093729e-05, 2.70739898e-03, 6.73319534e-04])"
      ]
     },
     "metadata": {},
     "output_type": "display_data"
    },
    {
     "data": {
      "text/plain": [
       "{'mu mu': array([6.10588051e-06, 5.70145391e-04, 5.78482356e-04]),\n",
       " 'pi pi': array([2.14034924e-05, 2.13725359e-03, 9.48371777e-05]),\n",
       " 's s': array([0., 0., 0.]),\n",
       " 'total': array([2.75093729e-05, 2.70739898e-03, 6.73319534e-04])}"
      ]
     },
     "metadata": {},
     "output_type": "display_data"
    },
    {
     "data": {
      "text/plain": [
       "{'e e': {'energy': 152.5, 'bf': 7.711433862697906e-06}}"
      ]
     },
     "metadata": {},
     "output_type": "display_data"
    }
   ],
   "source": [
    "from hazma.scalar_mediator import HiggsPortal\n",
    "\n",
    "e_cm = 305.0  # DM center of mass energy\n",
    "e_ps = np.array([1.0, 10.0, 100.0])  # positron energies\n",
    "hp = HiggsPortal(mx=150.0, ms=1e3, gsxx=0.7, stheta=0.1)\n",
    "display(hp.total_positron_spectrum(e_ps, e_cm))\n",
    "# array([2.75093729e-05, 2.70739898e-03, 6.73319534e-04])\n",
    "display(hp.positron_spectra(e_ps, e_cm))\n",
    "# {'mu mu': array([6.10588051e-06, 5.70145391e-04, 5.78482356e-04]),\n",
    "#  'pi pi': array([2.14034924e-05, 2.13725359e-03, 9.48371777e-05]),\n",
    "#  's s': array([0., 0., 0.]),\n",
    "#  'total': array([2.75093729e-05, 2.70739898e-03, 6.73319534e-04])}\n",
    "display(hp.positron_lines(e_cm))\n",
    "# {'e e': {'energy': 152.5, 'bf': 7.711433862697906e-06}}"
   ]
  },
  {
   "cell_type": "code",
   "execution_count": 22,
   "metadata": {
    "hidden": true
   },
   "outputs": [
    {
     "data": {
      "text/plain": [
       "array(0.00864851)"
      ]
     },
     "metadata": {},
     "output_type": "display_data"
    },
    {
     "data": {
      "text/plain": [
       "0.6538810882108401"
      ]
     },
     "metadata": {},
     "output_type": "display_data"
    }
   ],
   "source": [
    "e_cm = 305.0  # DM center of mass energy\n",
    "e_p_min, e_p_max = 1.0, 100.0  # define energy range\n",
    "energy_res = lambda e: 0.05\n",
    "dnde_p_conv = hp.total_conv_positron_spectrum_fn(e_p_min, e_p_max, e_cm, energy_res)\n",
    "display(dnde_p_conv(20.0))\n",
    "# array(0.00864851)\n",
    "display(dnde_p_conv.integral(10, 100))  # integrate spectrum\n",
    "# 0.6538810882108401"
   ]
  },
  {
   "cell_type": "markdown",
   "metadata": {
    "heading_collapsed": true
   },
   "source": [
    "## Section 7: Gamma Ray Limits"
   ]
  },
  {
   "cell_type": "code",
   "execution_count": 23,
   "metadata": {
    "hidden": true
   },
   "outputs": [
    {
     "data": {
      "text/plain": [
       "2.2809005757912853e-27"
      ]
     },
     "execution_count": 23,
     "metadata": {},
     "output_type": "execute_result"
    }
   ],
   "source": [
    "from hazma.scalar_mediator import ScalarMediator\n",
    "from hazma.gamma_ray_parameters import egret_diffuse, TargetParams\n",
    "\n",
    "egret_diffuse.target  # target region information\n",
    "TargetParams(J=3.79e27, dOmega=6.584844306798711)\n",
    "sm = ScalarMediator(mx=150.0, ms=1e4, gsxx=1.0, gsff=0.1, gsGG=0.5, gsFF=0, lam=1e5)\n",
    "sm.binned_limit(egret_diffuse)\n",
    "# 2.2809005757912853e-27  # cm^3 / s"
   ]
  },
  {
   "cell_type": "code",
   "execution_count": 28,
   "metadata": {
    "hidden": true
   },
   "outputs": [
    {
     "data": {
      "text/plain": [
       "6.972e+32"
      ]
     },
     "metadata": {},
     "output_type": "display_data"
    },
    {
     "data": {
      "text/plain": [
       "2.66e-07"
      ]
     },
     "metadata": {},
     "output_type": "display_data"
    },
    {
     "data": {
      "text/plain": [
       "1.8521346229682218e-30"
      ]
     },
     "execution_count": 28,
     "metadata": {},
     "output_type": "execute_result"
    }
   ],
   "source": [
    "from hazma.gamma_ray_parameters import A_eff_e_astrogam\n",
    "from hazma.gamma_ray_parameters import energy_res_e_astrogam\n",
    "from hazma.gamma_ray_parameters import gc_targets, gc_bg_model\n",
    "\n",
    "T_obs_e_astrogam = 1e7\n",
    "gc_target = gc_targets[\"nfw\"][\"1 arcmin cone\"]\n",
    "\n",
    "display(gc_target.J)\n",
    "# 6.972e+32\n",
    "display(gc_target.dOmega)  # target region information\n",
    "# 2.66e-07\n",
    "sm.unbinned_limit(\n",
    "    A_eff_e_astrogam,  # effective area\n",
    "    energy_res_e_astrogam,  # energy resolution\n",
    "    T_obs_e_astrogam,  # observing time\n",
    "    gc_target,  # target region\n",
    "    gc_bg_model,\n",
    ")  # background model\n",
    "# 1.8521346229682218e-30  # cm^3 / s"
   ]
  },
  {
   "cell_type": "markdown",
   "metadata": {
    "heading_collapsed": true
   },
   "source": [
    "## Section 8: Cosmic Microwave Background limits"
   ]
  },
  {
   "cell_type": "code",
   "execution_count": 2,
   "metadata": {
    "hidden": true
   },
   "outputs": [
    {
     "name": "stderr",
     "output_type": "stream",
     "text": [
      "/Users/acoogan/Physics/Sub-GeV_DM/Hazma/hazma/decay.py:141: IntegrationWarning: The integral is probably divergent, or slowly convergent.\n",
      "  return decay_charged_pion.Spectrum(photon_energies, pion_energy, mode)\n"
     ]
    },
    {
     "data": {
      "text/plain": [
       "(0.4234440957173111, 0.18622537016754176, 0.23721872554976936)"
      ]
     },
     "execution_count": 2,
     "metadata": {},
     "output_type": "execute_result"
    }
   ],
   "source": [
    "from hazma.scalar_mediator import HiggsPortal\n",
    "\n",
    "sm = HiggsPortal(mx=150.0, ms=1.5*150, gsxx=1.0, stheta=0.1)\n",
    "x_kd = 1e-6\n",
    "sm.f_eff(x_kd), sm.f_eff_ep(x_kd), sm.f_eff_g(x_kd)\n",
    "# (0.4234440957173111, 0.18622537016754176, 0.23721872554976936)"
   ]
  },
  {
   "cell_type": "code",
   "execution_count": 3,
   "metadata": {
    "hidden": true
   },
   "outputs": [
    {
     "data": {
      "text/plain": [
       "1.2398330861377438e-28"
      ]
     },
     "execution_count": 3,
     "metadata": {},
     "output_type": "execute_result"
    }
   ],
   "source": [
    "from hazma.cmb import p_ann_planck_temp_pol as p_ann\n",
    "from hazma.scalar_mediator import HiggsPortal\n",
    "\n",
    "p_ann\n",
    "# 3.5e-31  # cm^3 / MeV / s\n",
    "x_kd = 1e-6\n",
    "sm = HiggsPortal(mx=150.0, ms=1.5*150, gsxx=1.0, stheta=0.1)\n",
    "sm.cmb_limit(x_kd, p_ann)\n",
    "# 1.2398330861377438e-28  # cm^3 / s"
   ]
  },
  {
   "cell_type": "markdown",
   "metadata": {
    "heading_collapsed": true
   },
   "source": [
    "## Appendix B: Basic Usage"
   ]
  },
  {
   "cell_type": "code",
   "execution_count": 5,
   "metadata": {
    "hidden": true
   },
   "outputs": [],
   "source": [
    "import numpy as np\n",
    "from hazma.vector_mediator import KineticMixing\n",
    "\n",
    "params = {\"mx\": 250.0, \"mv\": 1e6, \"gvxx\": 1.0, \"eps\": 1e-3}\n",
    "km = KineticMixing(**params)"
   ]
  },
  {
   "cell_type": "code",
   "execution_count": 6,
   "metadata": {
    "hidden": true
   },
   "outputs": [
    {
     "data": {
      "text/plain": [
       "['mu mu', 'e e', 'pi pi', 'pi0 g', 'pi0 v', 'v v']"
      ]
     },
     "execution_count": 6,
     "metadata": {},
     "output_type": "execute_result"
    }
   ],
   "source": [
    "km.list_annihilation_final_states()\n",
    "# ['mu mu', 'e e', 'pi pi', 'pi0 g', 'pi0 v', 'v v']"
   ]
  },
  {
   "cell_type": "code",
   "execution_count": 8,
   "metadata": {
    "hidden": true
   },
   "outputs": [
    {
     "data": {
      "text/plain": [
       "{'mu mu': 8.998735387276086e-25,\n",
       " 'e e': 9.115024836416874e-25,\n",
       " 'pi pi': 1.3013263970304e-25,\n",
       " 'pi0 g': 1.7451483984993156e-29,\n",
       " 'pi0 v': 0.0,\n",
       " 'v v': 0.0,\n",
       " 'total': 1.941526113556321e-24}"
      ]
     },
     "metadata": {},
     "output_type": "display_data"
    },
    {
     "data": {
      "text/plain": [
       "{'mu mu': 0.4634877339245762,\n",
       " 'e e': 0.46947732367713324,\n",
       " 'pi pi': 0.06702595385888176,\n",
       " 'pi0 g': 8.988539408840104e-06,\n",
       " 'pi0 v': 0.0,\n",
       " 'v v': 0.0}"
      ]
     },
     "metadata": {},
     "output_type": "display_data"
    }
   ],
   "source": [
    "cme = 2.0 * km.mx * (1.0 + 0.5 * 1e-6)\n",
    "display(km.annihilation_cross_sections(cme))\n",
    "# {'mu mu': 8.998735387276086e-25,\n",
    "#  'e e': 9.115024836416874e-25,\n",
    "#  'pi pi': 1.3013263970304e-25,\n",
    "#  'pi0 g': 1.7451483984993156e-29,\n",
    "#  'pi0 v': 0.0,\n",
    "#  'v v': 0.0,\n",
    "#  'total': 1.941526113556321e-24}\n",
    "display(km.annihilation_branching_fractions(cme))\n",
    "# {'mu mu': 0.4634877339245762,\n",
    "#  'e e': 0.46947732367713324,\n",
    "#  'pi pi': 0.06702595385888176,\n",
    "#  'pi0 g': 8.988539408840104e-06,\n",
    "#  'pi0 v': 0.0,\n",
    "#  'v v': 0.0}"
   ]
  },
  {
   "cell_type": "code",
   "execution_count": 9,
   "metadata": {
    "hidden": true
   },
   "outputs": [
    {
     "data": {
      "text/plain": [
       "{'pi pi': 0.0006080948890354345,\n",
       " 'pi0 g': 0.23374917012731816,\n",
       " 'x x': 26525.823848648604,\n",
       " 'e e': 0.0024323798404358825,\n",
       " 'mu mu': 0.0024323798404358803,\n",
       " 'total': 26526.0630706733}"
      ]
     },
     "execution_count": 9,
     "metadata": {},
     "output_type": "execute_result"
    }
   ],
   "source": [
    "km.partial_widths()\n",
    "# {'pi pi': 0.0006080948890354345,\n",
    "#  'pi0 g': 0.23374917012731816,\n",
    "#  'x x': 26525.823848648604,\n",
    "#  'e e': 0.0024323798404358825,\n",
    "#  'mu mu': 0.0024323798404358803,\n",
    "#  'total': 26526.0630706733}"
   ]
  },
  {
   "cell_type": "code",
   "execution_count": 10,
   "metadata": {
    "hidden": true
   },
   "outputs": [
    {
     "data": {
      "text/plain": [
       "{'mu mu': array([2.8227189e-05]),\n",
       " 'e e': array([0.00013172]),\n",
       " 'pi pi': array([2.1464018e-06]),\n",
       " 'pi0 g': array([7.66452627e-08]),\n",
       " 'pi0 v': array([0.]),\n",
       " 'v v': array([0.]),\n",
       " 'total': array([0.00016217])}"
      ]
     },
     "execution_count": 10,
     "metadata": {},
     "output_type": "execute_result"
    }
   ],
   "source": [
    "# Specify photon energies to compute spectrum at\n",
    "photon_energies = np.array([cme / 4])\n",
    "km.spectra(photon_energies, cme)\n",
    "# {'mu mu': array([2.8227189e-05]),\n",
    "#  'e e': array([0.00013172]),\n",
    "#  'pi pi': array([2.1464018e-06]),\n",
    "#  'pi0 g': array([7.66452627e-08]),\n",
    "#  'pi0 v': array([0.]),\n",
    "#  'v v': array([0.]),\n",
    "#  'total': array([0.00016217])}"
   ]
  },
  {
   "cell_type": "code",
   "execution_count": 11,
   "metadata": {
    "hidden": true
   },
   "outputs": [
    {
     "data": {
      "text/plain": [
       "array([6.09016958e-05])"
      ]
     },
     "metadata": {},
     "output_type": "display_data"
    },
    {
     "data": {
      "text/plain": [
       "array([2.8227189e-05])"
      ]
     },
     "metadata": {},
     "output_type": "display_data"
    }
   ],
   "source": [
    "spec_funs = km.spectrum_funcs()\n",
    "display(spec_funs[\"mu mu\"](photon_energies, cme))\n",
    "# array([6.09016958e-05])\n",
    "mumu_bf = km.annihilation_branching_fractions(cme)[\"mu mu\"]\n",
    "display(mumu_bf * spec_funs[\"mu mu\"](photon_energies, cme))\n",
    "# array([2.8227189e-05])"
   ]
  },
  {
   "cell_type": "code",
   "execution_count": 12,
   "metadata": {
    "hidden": true
   },
   "outputs": [
    {
     "data": {
      "text/plain": [
       "array([0.00016217])"
      ]
     },
     "execution_count": 12,
     "metadata": {},
     "output_type": "execute_result"
    }
   ],
   "source": [
    "km.total_spectrum(photon_energies, cme)\n",
    "# array([0.00016217])"
   ]
  },
  {
   "cell_type": "code",
   "execution_count": 13,
   "metadata": {
    "hidden": true
   },
   "outputs": [
    {
     "data": {
      "text/plain": [
       "{'pi0 g': {'energy': 231.78145156177675, 'bf': 8.988539408840104e-06}}"
      ]
     },
     "execution_count": 13,
     "metadata": {},
     "output_type": "execute_result"
    }
   ],
   "source": [
    "km.gamma_ray_lines(cme)\n",
    "# {'pi0 g': {'energy': 231.78145156177675, 'bf': 8.988539408840104e-06}}"
   ]
  },
  {
   "cell_type": "code",
   "execution_count": 14,
   "metadata": {
    "hidden": true
   },
   "outputs": [
    {
     "data": {
      "text/plain": [
       "array(0.00167605)"
      ]
     },
     "execution_count": 14,
     "metadata": {},
     "output_type": "execute_result"
    }
   ],
   "source": [
    "min_photon_energy = 1e-3\n",
    "max_photon_energy = cme\n",
    "energy_resolution = lambda photon_energy: 1.0\n",
    "number_points = 1000\n",
    "\n",
    "spec = km.total_conv_spectrum_fn(\n",
    "    min_photon_energy, max_photon_energy, cme, energy_resolution, number_points\n",
    ")\n",
    "spec(cme / 4)\n",
    "# array(0.00167605)"
   ]
  },
  {
   "cell_type": "code",
   "execution_count": 15,
   "metadata": {
    "hidden": true
   },
   "outputs": [],
   "source": [
    "from hazma.parameters import electron_mass as me\n",
    "\n",
    "positron_energies = np.logspace(np.log10(me), np.log10(cme), num=100)\n",
    "km.positron_spectra(positron_energies, cme)\n",
    "km.positron_lines(cme)\n",
    "km.total_positron_spectrum(positron_energies, cme)\n",
    "dnde_pos = km.total_conv_positron_spectrum_fn(\n",
    "    min(positron_energies),\n",
    "    max(positron_energies),\n",
    "    cme,\n",
    "    energy_resolution,\n",
    "    number_points,\n",
    ")"
   ]
  },
  {
   "cell_type": "code",
   "execution_count": 16,
   "metadata": {
    "hidden": true
   },
   "outputs": [
    {
     "name": "stderr",
     "output_type": "stream",
     "text": [
      "/Users/acoogan/Physics/Sub-GeV_DM/Hazma/hazma/theory/_theory_gamma_ray_limits.py:105: RuntimeWarning: divide by zero encountered in true_divide\n",
      "  sv_lims = Phi_maxs / Phi_dms_un\n",
      "/Users/acoogan/Physics/Sub-GeV_DM/Hazma/hazma/decay.py:54: IntegrationWarning: The integral is probably divergent, or slowly convergent.\n",
      "  return decay_muon.SpectrumPoint(photon_energies, muon_energy)\n"
     ]
    }
   ],
   "source": [
    "from hazma.gamma_ray_parameters import egret_diffuse\n",
    "\n",
    "mxs = np.linspace(me / 2.0, 250.0, num=100)\n",
    "limits = np.zeros(len(mxs), dtype=float)\n",
    "for i, mx in enumerate(mxs):\n",
    "    km.mx = mx\n",
    "    limits[i] = km.binned_limit(egret_diffuse)"
   ]
  },
  {
   "cell_type": "code",
   "execution_count": 19,
   "metadata": {
    "hidden": true
   },
   "outputs": [
    {
     "name": "stderr",
     "output_type": "stream",
     "text": [
      "/Users/acoogan/Physics/Sub-GeV_DM/Hazma/hazma/theory/_theory_gamma_ray_limits.py:241: RuntimeWarning: divide by zero encountered in double_scalars\n",
      "  bound = prefactor * n_sigma / np.nanmax(snrs[:, 2])\n"
     ]
    }
   ],
   "source": [
    "from hazma.gamma_ray_parameters import gc_targets, gc_bg_model\n",
    "from hazma.gamma_ray_parameters import A_eff_e_astrogam, energy_res_e_astrogam\n",
    "\n",
    "gc_target = gc_targets[\"nfw\"][\"1 arcmin cone\"]\n",
    "T_obs_e_astrogam = 1e7  # s\n",
    "\n",
    "mxs = np.linspace(me / 2.0, 250.0, num=100)\n",
    "limits = np.zeros(len(mxs), dtype=float)\n",
    "for i, mx in enumerate(mxs):\n",
    "    km.mx = mx\n",
    "    limits[i] = km.unbinned_limit(\n",
    "        A_eff_e_astrogam,\n",
    "        energy_res_e_astrogam,\n",
    "        T_obs_e_astrogam,\n",
    "        gc_target,\n",
    "        gc_bg_model,\n",
    "    )"
   ]
  },
  {
   "cell_type": "code",
   "execution_count": 20,
   "metadata": {
    "hidden": true
   },
   "outputs": [],
   "source": [
    "from hazma.scalar_mediator import ScalarMediator\n",
    "from hazma.parameters import vh\n",
    "\n",
    "class HiggsPortal(ScalarMediator):\n",
    "    def __init__(self, mx, ms, gsxx, stheta):\n",
    "        self._lam = vh\n",
    "        self._stheta = stheta\n",
    "        super(HiggsPortal, self).__init__(\n",
    "            mx, ms, gsxx, stheta, 3.*stheta, -5.*stheta/6., vh\n",
    "        )\n",
    "\n",
    "    @property\n",
    "    def stheta(self):\n",
    "        return self._stheta\n",
    "\n",
    "    @stheta.setter\n",
    "    def stheta(self, stheta):\n",
    "        self._stheta = stheta\n",
    "        self.gsff = stheta\n",
    "        self.gsGG = 3. * stheta\n",
    "        self.gsFF = - 5. * stheta / 6.\n",
    "\n",
    "    # Hide underlying properties' setters\n",
    "    @ScalarMediator.gsff.setter\n",
    "    def gsff(self, gsff):\n",
    "        raise AttributeError(\"Cannot set gsff\")\n",
    "\n",
    "    @ScalarMediator.gsGG.setter\n",
    "    def gsGG(self, gsGG):\n",
    "        raise AttributeError(\"Cannot set gsGG\")\n",
    "\n",
    "    @ScalarMediator.gsFF.setter\n",
    "    def gsFF(self, gsFF):\n",
    "        raise AttributeError(\"Cannot set gsFF\")"
   ]
  },
  {
   "cell_type": "markdown",
   "metadata": {
    "heading_collapsed": true
   },
   "source": [
    "## Appendix C: Advanced Usage"
   ]
  },
  {
   "cell_type": "code",
   "execution_count": 21,
   "metadata": {
    "hidden": true
   },
   "outputs": [],
   "source": [
    "from hazma.gamma_ray_parameters import TargetParams\n",
    "\n",
    "tp = TargetParams(J=1e29, dOmega=0.1)"
   ]
  },
  {
   "cell_type": "code",
   "execution_count": 22,
   "metadata": {
    "hidden": true
   },
   "outputs": [],
   "source": [
    "from hazma.background_model import BackgroundModel\n",
    "\n",
    "bg = BackgroundModel(e_range=[0.5, 1e4], dPhi_dEdOmega=lambda e: 2.7e-3 / e ** 2)"
   ]
  },
  {
   "cell_type": "markdown",
   "metadata": {
    "hidden": true
   },
   "source": [
    "See the notebook ``hazma_example.ipynb`` for the custom model implementation."
   ]
  },
  {
   "cell_type": "code",
   "execution_count": null,
   "metadata": {
    "hidden": true
   },
   "outputs": [],
   "source": []
  }
 ],
 "metadata": {
  "@webio": {
   "lastCommId": null,
   "lastKernelId": null
  },
  "jupytext": {
   "formats": "ipynb,py:hydrogen"
  },
  "kernelspec": {
   "display_name": "Python 3",
   "language": "python",
   "name": "python3"
  },
  "language_info": {
   "codemirror_mode": {
    "name": "ipython",
    "version": 3
   },
   "file_extension": ".py",
   "mimetype": "text/x-python",
   "name": "python",
   "nbconvert_exporter": "python",
   "pygments_lexer": "ipython3",
   "version": "3.8.6"
  }
 },
 "nbformat": 4,
 "nbformat_minor": 2
}
